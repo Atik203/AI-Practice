{
 "cells": [
  {
   "cell_type": "code",
   "execution_count": 9,
   "metadata": {
    "colab": {
     "base_uri": "https://localhost:8080/"
    },
    "executionInfo": {
     "elapsed": 5,
     "status": "ok",
     "timestamp": 1677389321057,
     "user": {
      "displayName": "Fariha Tabassum Islam",
      "userId": "07813773116714717321"
     },
     "user_tz": -360
    },
    "id": "B6ttHdCQlcID",
    "outputId": "99c1e212-d5cd-4423-dd96-b89e5362ac84"
   },
   "outputs": [
    {
     "name": "stdout",
     "output_type": "stream",
     "text": [
      "S (1, 2) ---> [('A', 1), ('G', 10)]\n",
      "\t A 1\n",
      "\t G 10\n",
      "A (2, 2) ---> [('G', 1)]\n",
      "\t G 1\n",
      "G (4, 5) ---> []\n",
      "start S goal G\n"
     ]
    }
   ],
   "source": [
    "coords = {} # node id is the key\n",
    "adjlist = {} # node id is the key\n",
    "with open('input.txt','r') as f:\n",
    "    V = int(f.readline()) \n",
    "    for i in range(V):\n",
    "        strs = f.readline().split()\n",
    "        nid, x, y = strs[0], int(strs[1]), int(strs[2])\n",
    "        coords[nid] = (x, y) # x, y kept as a tuple \n",
    "        adjlist[nid] = [] #create empty list for each node's adjnodes\n",
    "\n",
    "    E = int(f.readline())\n",
    "    for i in range(E):\n",
    "        strs = f.readline().split()\n",
    "        n1, n2, c = strs[0], strs[1], int(strs[2])\n",
    "        adjlist[n1].append((n2, c)) # (n2, c) tuple\n",
    "    startnid = f.readline().rstrip()\n",
    "    goalnid = f.readline().rstrip()\n",
    "\n",
    "\n",
    "    for nid in adjlist:\n",
    "        print(nid, coords[nid], '--->',  adjlist[nid])\n",
    "        for tup in adjlist[nid]:\n",
    "            print('\\t', tup[0], tup[1])\n",
    "    print('start', startnid, 'goal', goalnid)"
   ]
  },
  {
   "cell_type": "code",
   "execution_count": 10,
   "metadata": {
    "id": "1jaV8BOhmW6w"
   },
   "outputs": [],
   "source": [
    "import math\n",
    "def heuristic(nid, goal, coords):\n",
    "    (x1, y1) = coords[nid]\n",
    "    (xg, yg) = coords[goal]\n",
    "    return math.sqrt((x1 - xg) ** 2 + (y1 - yg) ** 2)\n"
   ]
  },
  {
   "cell_type": "code",
   "execution_count": null,
   "metadata": {
    "id": "HIPWM90Seokr"
   },
   "outputs": [],
   "source": [
    "class State:\n",
    "    def __init__(self, nid, g, h, parent = None):\n",
    "        self.nid = nid\n",
    "        self.g = g\n",
    "        self.h = h\n",
    "        self.f = g + h\n",
    "        self.parent = parent\n",
    "\n",
    "    def __lt__(self, other: 'State'):\n",
    "        # PriorityQueue uses < to break ties; prefer smaller f, then larger g (optional heuristic)\n",
    "        if self.f == other.f:\n",
    "            return self.g > other.g\n",
    "        return self.f < other.f\n",
    "\n",
    "    def __repr__(self):\n",
    "        return f\"State({self.nid}, g={self.g}, h={self.h:.2f}, f={self.f:.2f})\"\n",
    "\n",
    "    def path(self):\n",
    "        \"\"\"Reconstruct path from start to this node (returns list of node ids).\"\"\"\n",
    "        out = []\n",
    "        cur = self\n",
    "        while cur:\n",
    "            out.append(cur.nid)\n",
    "            cur = cur.parent\n",
    "        return list(reversed(out))"
   ]
  },
  {
   "cell_type": "code",
   "execution_count": null,
   "metadata": {
    "id": "eAWuxcqDXoej"
   },
   "outputs": [
    {
     "ename": "TypeError",
     "evalue": "'<' not supported between instances of 'State' and 'State'",
     "output_type": "error",
     "traceback": [
      "\u001b[1;31m---------------------------------------------------------------------------\u001b[0m",
      "\u001b[1;31mTypeError\u001b[0m                                 Traceback (most recent call last)",
      "Cell \u001b[1;32mIn[14], line 55\u001b[0m\n\u001b[0;32m     52\u001b[0m     \u001b[38;5;28;01mreturn\u001b[39;00m \u001b[38;5;28;01mNone\u001b[39;00m, explored, \u001b[38;5;28;01mNone\u001b[39;00m\n\u001b[0;32m     54\u001b[0m \u001b[38;5;66;03m# Run A* on provided graph\u001b[39;00m\n\u001b[1;32m---> 55\u001b[0m path, explored_count, goal_state \u001b[38;5;241m=\u001b[39m astar(startnid, goalnid, adjlist, coords, verbose\u001b[38;5;241m=\u001b[39m\u001b[38;5;28;01mFalse\u001b[39;00m)\n\u001b[0;32m     56\u001b[0m \u001b[38;5;28;01mif\u001b[39;00m path \u001b[38;5;129;01mis\u001b[39;00m \u001b[38;5;28;01mNone\u001b[39;00m:\n\u001b[0;32m     57\u001b[0m     \u001b[38;5;28mprint\u001b[39m(\u001b[38;5;124m\"\u001b[39m\u001b[38;5;124mPath:\u001b[39m\u001b[38;5;124m\"\u001b[39m)\n",
      "Cell \u001b[1;32mIn[14], line 45\u001b[0m, in \u001b[0;36mastar\u001b[1;34m(start_id, goal_id, adjlist, coords, verbose)\u001b[0m\n\u001b[0;32m     43\u001b[0m nbr_state \u001b[38;5;241m=\u001b[39m State(nbr, tentative_g, h, parent\u001b[38;5;241m=\u001b[39mcurrent)\n\u001b[0;32m     44\u001b[0m best_g[nbr] \u001b[38;5;241m=\u001b[39m tentative_g\n\u001b[1;32m---> 45\u001b[0m minQ\u001b[38;5;241m.\u001b[39mput(nbr_state)\n\u001b[0;32m     46\u001b[0m \u001b[38;5;28;01mif\u001b[39;00m verbose:\n\u001b[0;32m     47\u001b[0m     \u001b[38;5;28mprint\u001b[39m(\u001b[38;5;124mf\u001b[39m\u001b[38;5;124m\"\u001b[39m\u001b[38;5;124m  PUSH -> \u001b[39m\u001b[38;5;132;01m{\u001b[39;00mnbr_state\u001b[38;5;132;01m}\u001b[39;00m\u001b[38;5;124m via \u001b[39m\u001b[38;5;132;01m{\u001b[39;00mcurrent\u001b[38;5;241m.\u001b[39mnid\u001b[38;5;132;01m}\u001b[39;00m\u001b[38;5;124m (edge cost \u001b[39m\u001b[38;5;132;01m{\u001b[39;00mcost\u001b[38;5;132;01m}\u001b[39;00m\u001b[38;5;124m)\u001b[39m\u001b[38;5;124m\"\u001b[39m)\n",
      "File \u001b[1;32mc:\\ProgramData\\anaconda3\\Lib\\queue.py:150\u001b[0m, in \u001b[0;36mQueue.put\u001b[1;34m(self, item, block, timeout)\u001b[0m\n\u001b[0;32m    148\u001b[0m                 \u001b[38;5;28;01mraise\u001b[39;00m Full\n\u001b[0;32m    149\u001b[0m             \u001b[38;5;28mself\u001b[39m\u001b[38;5;241m.\u001b[39mnot_full\u001b[38;5;241m.\u001b[39mwait(remaining)\n\u001b[1;32m--> 150\u001b[0m \u001b[38;5;28mself\u001b[39m\u001b[38;5;241m.\u001b[39m_put(item)\n\u001b[0;32m    151\u001b[0m \u001b[38;5;28mself\u001b[39m\u001b[38;5;241m.\u001b[39munfinished_tasks \u001b[38;5;241m+\u001b[39m\u001b[38;5;241m=\u001b[39m \u001b[38;5;241m1\u001b[39m\n\u001b[0;32m    152\u001b[0m \u001b[38;5;28mself\u001b[39m\u001b[38;5;241m.\u001b[39mnot_empty\u001b[38;5;241m.\u001b[39mnotify()\n",
      "File \u001b[1;32mc:\\ProgramData\\anaconda3\\Lib\\queue.py:236\u001b[0m, in \u001b[0;36mPriorityQueue._put\u001b[1;34m(self, item)\u001b[0m\n\u001b[0;32m    235\u001b[0m \u001b[38;5;28;01mdef\u001b[39;00m \u001b[38;5;21m_put\u001b[39m(\u001b[38;5;28mself\u001b[39m, item):\n\u001b[1;32m--> 236\u001b[0m     heappush(\u001b[38;5;28mself\u001b[39m\u001b[38;5;241m.\u001b[39mqueue, item)\n",
      "\u001b[1;31mTypeError\u001b[0m: '<' not supported between instances of 'State' and 'State'"
     ]
    }
   ],
   "source": [
    "from queue import PriorityQueue\n",
    "\n",
    "def astar(start_id: str, goal_id: str, adjlist: dict, coords: dict, verbose: bool = False):\n",
    "    \"\"\"Perform A* search and return (path, explored_count, goal_state).\n",
    "\n",
    "    Steps:\n",
    "        1. Initialize open priority queue with start state (g=0, h=h(start)).\n",
    "        2. Maintain best_g dict: lowest discovered g for each node.\n",
    "        3. Pop smallest f from open; if goal -> success.\n",
    "        4. For each neighbor, compute tentative_g; if better, push/update.\n",
    "        5. Use closed set to avoid re-expanding nodes with finalized best g.\n",
    "    \"\"\"\n",
    "    minQ = PriorityQueue()\n",
    "    h0 = heuristic(start_id, goal_id, coords)\n",
    "    start_state = State(start_id, g=0, h=h0, parent=None)\n",
    "    minQ.put(start_state)\n",
    "\n",
    "    best_g = {start_id: 0}\n",
    "    closed = set()\n",
    "    explored = 0\n",
    "\n",
    "    while not minQ.empty():\n",
    "        current: State = minQ.get()\n",
    "        explored += 1\n",
    "        if verbose:\n",
    "            print(f\"POP -> {current}\")\n",
    "\n",
    "        if current.nid == goal_id:\n",
    "            return current.path(), explored, current\n",
    "\n",
    "        if current.nid in closed:\n",
    "            if verbose:\n",
    "                print(f\"Skip {current.nid} (already closed)\")\n",
    "            continue\n",
    "\n",
    "        closed.add(current.nid)\n",
    "\n",
    "        for (nbr, cost) in adjlist[current.nid]:\n",
    "            tentative_g = current.g + cost\n",
    "            # If this path to neighbor is better (lower g) than any previous one\n",
    "            if nbr not in best_g or tentative_g < best_g[nbr]:\n",
    "                h = heuristic(nbr, goal_id, coords)\n",
    "                nbr_state = State(nbr, tentative_g, h, parent=current)\n",
    "                best_g[nbr] = tentative_g\n",
    "                minQ.put(nbr_state)\n",
    "                if verbose:\n",
    "                    print(f\"  PUSH -> {nbr_state} via {current.nid} (edge cost {cost})\")\n",
    "            else:\n",
    "                if verbose:\n",
    "                    print(f\"  IGNORE neighbor {nbr} (tentative g={tentative_g} >= best {best_g[nbr]})\")\n",
    "\n",
    "    return None, explored, None\n",
    "\n",
    "# Run A* on provided graph\n",
    "path, explored_count, goal_state = astar(startnid, goalnid, adjlist, coords, verbose=False)\n",
    "if path is None:\n",
    "    print(\"Path:\")\n",
    "    print(\"Total cost: N/A (goal not reachable)\")\n",
    "else:\n",
    "    print(\"Path:\", \" \".join(path))\n",
    "    print(\"Total cost:\", goal_state.g)"
   ]
  },
  {
   "cell_type": "markdown",
   "metadata": {},
   "source": [
    "## A* Search Implementation Explanation\n",
    "Line-by-line overview of the code in the next cell:\n",
    "1. Import PriorityQueue for ordering by f(n).\n",
    "2. Define `astar` function encapsulating the algorithm.\n",
    "3. Compute `h0` = heuristic(start, goal) and create initial `State` (g=0, f=h0).\n",
    "4. Initialize data structures:\n",
    "   - `openQ`: frontier (min-heap by f)\n",
    "   - `best_g`: maps node -> best discovered g\n",
    "   - `closed`: nodes whose optimal g is finalized\n",
    "   - `explored`: counter of pops\n",
    "5. Main loop: while frontier not empty, pop smallest f state.\n",
    "6. If popped node is goal: reconstruct path using parent links.\n",
    "7. Skip node if already in `closed` (we found a better path earlier).\n",
    "8. Otherwise add it to `closed` and expand neighbors.\n",
    "9. For each neighbor (nbr, cost):\n",
    "   - Compute `tentative_g = current.g + cost`.\n",
    "   - If this g is better than any recorded (`nbr not in best_g or tentative_g < best_g[nbr]`):\n",
    "     * Compute `h = heuristic(nbr, goal)`.\n",
    "     * Create new `State` with updated g,h,f and parent.\n",
    "     * Update `best_g` and push onto `openQ`.\n",
    "   - Else ignore inferior path.\n",
    "10. If frontier empties without reaching goal -> failure.\n",
    "11. After run, print path, explored count, and total cost.\n",
    "\n",
    "The trace prints POP / PUSH / IGNORE show the search dynamics. The heuristic used is Euclidean distance, which is admissible if edge costs are at least the straight-line distance lower bound (true for geometric graphs)."
   ]
  }
 ],
 "metadata": {
  "colab": {
   "authorship_tag": "ABX9TyOIKMNH+pbdAXQNiq0rqTKS",
   "provenance": []
  },
  "kernelspec": {
   "display_name": "base",
   "language": "python",
   "name": "python3"
  },
  "language_info": {
   "codemirror_mode": {
    "name": "ipython",
    "version": 3
   },
   "file_extension": ".py",
   "mimetype": "text/x-python",
   "name": "python",
   "nbconvert_exporter": "python",
   "pygments_lexer": "ipython3",
   "version": "3.12.7"
  }
 },
 "nbformat": 4,
 "nbformat_minor": 0
}
