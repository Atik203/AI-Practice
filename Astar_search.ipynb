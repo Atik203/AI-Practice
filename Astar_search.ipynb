{
 "cells": [
  {
   "cell_type": "code",
   "execution_count": 12,
   "metadata": {
    "colab": {
     "base_uri": "https://localhost:8080/"
    },
    "executionInfo": {
     "elapsed": 5,
     "status": "ok",
     "timestamp": 1677389321057,
     "user": {
      "displayName": "Fariha Tabassum Islam",
      "userId": "07813773116714717321"
     },
     "user_tz": -360
    },
    "id": "B6ttHdCQlcID",
    "outputId": "99c1e212-d5cd-4423-dd96-b89e5362ac84"
   },
   "outputs": [
    {
     "name": "stdout",
     "output_type": "stream",
     "text": [
      "S (1, 2) ---> [('A', 1), ('G', 10)]\n",
      "\t A 1\n",
      "\t G 10\n",
      "A (2, 2) ---> [('G', 1)]\n",
      "\t G 1\n",
      "G (4, 5) ---> []\n",
      "start S goal G\n"
     ]
    }
   ],
   "source": [
    "coords = {}  # node id is the key\n",
    "adjlist = {}  # node id is the key\n",
    "with open('input.txt', 'r') as f:\n",
    "    V = int(f.readline())\n",
    "    for _ in range(V):\n",
    "        strs = f.readline().split()\n",
    "        nid, x, y = strs[0], int(strs[1]), int(strs[2])\n",
    "        coords[nid] = (x, y)  # x, y kept as a tuple\n",
    "        adjlist[nid] = []  # create empty list for each node's adjnodes\n",
    "\n",
    "    E = int(f.readline())\n",
    "    for _ in range(E):\n",
    "        strs = f.readline().split()\n",
    "        n1, n2, c = strs[0], strs[1], int(strs[2])\n",
    "        adjlist[n1].append((n2, c))  # (n2, c) tuple\n",
    "    startnid = f.readline().rstrip()\n",
    "    goalnid = f.readline().rstrip()\n",
    "\n",
    "for nid in adjlist:\n",
    "    print(nid, coords[nid], '--->', adjlist[nid])\n",
    "    for tup in adjlist[nid]:\n",
    "        print('\\t', tup[0], tup[1])\n",
    "print('start', startnid, 'goal', goalnid)"
   ]
  },
  {
   "cell_type": "code",
   "execution_count": 13,
   "metadata": {
    "id": "HIPWM90Seokr"
   },
   "outputs": [],
   "source": [
    "class State:\n",
    "    def __init__(self, nid, g, h, parent = None):\n",
    "        self.nid = nid\n",
    "        self.g = g\n",
    "        self.h = h\n",
    "        self.f = g + h\n",
    "        self.parent = parent\n",
    "\n",
    "    def __lt__(self, other: 'State'):\n",
    "        # PriorityQueue uses < to break ties; prefer smaller f, then larger g \n",
    "        if self.f == other.f:\n",
    "            return self.g > other.g\n",
    "        return self.f < other.f\n",
    "\n",
    "    def __repr__(self):\n",
    "        return f\"State({self.nid}, g={self.g}, h={self.h:.2f}, f={self.f:.2f})\"\n",
    "\n",
    "    def path(self):\n",
    "        out = []\n",
    "        cur = self\n",
    "        while cur:\n",
    "            out.append(cur.nid)\n",
    "            cur = cur.parent\n",
    "        return list(reversed(out))"
   ]
  },
  {
   "cell_type": "code",
   "execution_count": 14,
   "metadata": {
    "id": "eAWuxcqDXoej"
   },
   "outputs": [
    {
     "name": "stdout",
     "output_type": "stream",
     "text": [
      "Path: S -> A -> G\n",
      "Total cost: 2\n"
     ]
    }
   ],
   "source": [
    "from queue import PriorityQueue\n",
    "import math\n",
    "\n",
    "\n",
    "def heuristic(nid, goal, coords):\n",
    "    (x1, y1) = coords[nid]\n",
    "    (xg, yg) = coords[goal]\n",
    "    return math.sqrt((x1 - xg) ** 2 + (y1 - yg) ** 2)\n",
    "\n",
    "\n",
    "def astar(start_id: str, goal_id: str, adjlist: dict, coords: dict):\n",
    "    minQ = PriorityQueue()\n",
    "    h0 = heuristic(start_id, goal_id, coords)\n",
    "    start_state = State(start_id, g=0, h=h0, parent=None)\n",
    "    minQ.put(start_state)\n",
    "\n",
    "    # Track the best known g for each node\n",
    "    best_g = {start_id: 0}\n",
    "    visited = set()\n",
    "\n",
    "    while not minQ.empty():\n",
    "        current = minQ.get()\n",
    "       \n",
    "        if current.nid in visited:\n",
    "            continue\n",
    "\n",
    "        if current.nid == goal_id:\n",
    "            print(\"Path:\", \" -> \".join(current.path()))\n",
    "            print(\"Total cost:\", current.g)\n",
    "            return\n",
    "\n",
    "        visited.add(current.nid)\n",
    "\n",
    "        for (neighbor_id, edge_cost) in adjlist[current.nid]:\n",
    "            if neighbor_id in visited:\n",
    "                continue\n",
    "            g = current.g + edge_cost\n",
    "            if g < best_g.get(neighbor_id, math.inf):\n",
    "                h = heuristic(neighbor_id, goal_id, coords)\n",
    "                neighbor_state = State(neighbor_id, g, h, parent=current)\n",
    "                best_g[neighbor_id] = g\n",
    "                minQ.put(neighbor_state)\n",
    "\n",
    "    print(\"Path:\")\n",
    "    print(\"Total cost: N/A (goal not reachable)\")\n",
    "\n",
    "astar(startnid, goalnid, adjlist, coords)"
   ]
  }
 ],
 "metadata": {
  "colab": {
   "authorship_tag": "ABX9TyOIKMNH+pbdAXQNiq0rqTKS",
   "provenance": []
  },
  "kernelspec": {
   "display_name": "Python 3",
   "language": "python",
   "name": "python3"
  },
  "language_info": {
   "codemirror_mode": {
    "name": "ipython",
    "version": 3
   },
   "file_extension": ".py",
   "mimetype": "text/x-python",
   "name": "python",
   "nbconvert_exporter": "python",
   "pygments_lexer": "ipython3",
   "version": "3.12.11"
  }
 },
 "nbformat": 4,
 "nbformat_minor": 0
}
