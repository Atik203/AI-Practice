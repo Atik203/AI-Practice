{
 "cells": [
  {
   "cell_type": "markdown",
   "metadata": {
    "id": "XWkeFnGKTtUu"
   },
   "source": [
    "# Python Practice Problems"
   ]
  },
  {
   "cell_type": "code",
   "execution_count": 1,
   "metadata": {
    "colab": {
     "base_uri": "https://localhost:8080/"
    },
    "executionInfo": {
     "elapsed": 16,
     "status": "ok",
     "timestamp": 1754588513568,
     "user": {
      "displayName": "Atikur Rahaman",
      "userId": "15310823200165812914"
     },
     "user_tz": -360
    },
    "id": "5NdZ63zgsbBt",
    "outputId": "f5e8649c-90b7-41bd-d61f-28c422bc928c"
   },
   "outputs": [
    {
     "name": "stdout",
     "output_type": "stream",
     "text": [
      "I\n",
      "study\n",
      "in\n",
      "UIU\n"
     ]
    }
   ],
   "source": [
    "\n",
    "'''\n",
    "# Problem 1\n",
    "# given a string of words, print the words separately\n",
    "\n",
    "\n",
    "example, input : \"I study in UIU\"\n",
    "output:\n",
    "I\n",
    "study\n",
    "in\n",
    "UIU\n",
    "\n",
    "'''\n",
    "\n",
    "s = \"I study in UIU\"\n",
    "words = s.split()\n",
    "for word in words:\n",
    "    print(word)\n"
   ]
  },
  {
   "cell_type": "code",
   "execution_count": 3,
   "metadata": {
    "colab": {
     "base_uri": "https://localhost:8080/"
    },
    "executionInfo": {
     "elapsed": 2335,
     "status": "ok",
     "timestamp": 1754589382904,
     "user": {
      "displayName": "Atikur Rahaman",
      "userId": "15310823200165812914"
     },
     "user_tz": -360
    },
    "id": "cjij1mhTh446",
    "outputId": "403ccc80-b3c4-45ec-bdc9-9bede714ff57"
   },
   "outputs": [
    {
     "name": "stdout",
     "output_type": "stream",
     "text": [
      "Enter a number: 5\n",
      "35\n"
     ]
    }
   ],
   "source": [
    "'''\n",
    "Problem 2\n",
    "take an input n from keyboard\n",
    "now\n",
    " if n is odd: derive the sum 1^2 + 3^2 + 5^2 + .... + n^2\n",
    " if n is even: derive the sum 1^2 + 3^2 + 5^2 + ..... + (n+1)^2\n",
    " if n is anything else: print \"ERROR\"\n",
    "'''\n",
    "\n",
    "n = int(input(\"Enter a number: \"))\n",
    "if n % 2 == 1:\n",
    "  sum = 0\n",
    "  for i in range(1, n + 1, 2):\n",
    "    sum += i**2\n",
    "  print(sum)\n",
    "elif n %  2 == 0:\n",
    "  sum=0\n",
    "  for i in range(1, n + 2, 2):\n",
    "    sum+=i**2\n",
    "  print(sum)\n",
    "else:\n",
    "  print(\"ERROR\")"
   ]
  },
  {
   "cell_type": "code",
   "execution_count": 5,
   "metadata": {
    "colab": {
     "base_uri": "https://localhost:8080/"
    },
    "executionInfo": {
     "elapsed": 61,
     "status": "ok",
     "timestamp": 1754589585755,
     "user": {
      "displayName": "Atikur Rahaman",
      "userId": "15310823200165812914"
     },
     "user_tz": -360
    },
    "id": "Aua11B1aiudR",
    "outputId": "388573a7-f42c-4588-c9c8-0e7580d52122"
   },
   "outputs": [
    {
     "name": "stdout",
     "output_type": "stream",
     "text": [
      "[(2, 3), [1, 2], 3.4, 100, 'grape', 'apple']\n"
     ]
    }
   ],
   "source": [
    "'''\n",
    "Problem 3\n",
    "define a python function reverse(), which takes one parameter, a list\n",
    "The function reverses the order of the elements of a list.\n",
    "for example: if arr = ['apple', 'grape', 100, 3.4, [1, 2] , (2, 3)]\n",
    "\n",
    "reverse(arr) function will output [(2, 3), [1, 2] ,3.4, 100, 'grape', 'apple']\n",
    "\n",
    "\n",
    " '''\n",
    "\n",
    "\n",
    "def reverse(arr):\n",
    "  arr.reverse() # or return arr[::-1]\n",
    "  return arr\n",
    "\n",
    "arr = ['apple', 'grape', 100, 3.4, [1, 2] , (2, 3)]\n",
    "print(reverse(arr))"
   ]
  },
  {
   "cell_type": "code",
   "execution_count": 6,
   "metadata": {
    "colab": {
     "base_uri": "https://localhost:8080/"
    },
    "executionInfo": {
     "elapsed": 18,
     "status": "ok",
     "timestamp": 1754590012161,
     "user": {
      "displayName": "Atikur Rahaman",
      "userId": "15310823200165812914"
     },
     "user_tz": -360
    },
    "id": "TLh82Yy3jNTy",
    "outputId": "7517221c-72d6-4923-ade8-90eae64ebd98"
   },
   "outputs": [
    {
     "name": "stdout",
     "output_type": "stream",
     "text": [
      "Using zip and dict(): {1: 4, 2: 5, 3: 6}\n"
     ]
    }
   ],
   "source": [
    "'''\n",
    "Problem 4\n",
    "define a python function that takers 2 parameters: a list of keys (k) and a list of values (v):\n",
    "with the list of keys and values, make a dictionary, then return the dictionary\n",
    "if any of the two parameters is not a list, print \"ERROR\"\n",
    "\n",
    "'''\n",
    "def make_dict(k,v):\n",
    "  if not isinstance(k, list) or not isinstance(v, list):\n",
    "    return \"ERROR\"\n",
    "  # Alternative using zip and dict()\n",
    "  # return dict(zip(k,v))\n",
    "  # return {k[i]:v[i] for i in range(len(k))}\n",
    "  dict = {}\n",
    "  for i in range(len(k)):\n",
    "    dict[k[i]] = v[i]\n",
    "  return dict\n",
    "\n",
    "k = [1,2,3]\n",
    "v = [4,5,6]\n",
    "print(\"Using zip and dict():\", make_dict(k,v))\n"
   ]
  },
  {
   "cell_type": "code",
   "execution_count": 7,
   "metadata": {
    "colab": {
     "base_uri": "https://localhost:8080/"
    },
    "executionInfo": {
     "elapsed": 23,
     "status": "ok",
     "timestamp": 1754590488889,
     "user": {
      "displayName": "Atikur Rahaman",
      "userId": "15310823200165812914"
     },
     "user_tz": -360
    },
    "id": "YNb47cYFk6nZ",
    "outputId": "697c45d0-a3f3-4c79-e180-3412a2e1dcfd"
   },
   "outputs": [
    {
     "name": "stdout",
     "output_type": "stream",
     "text": [
      "Account Number 10 has 1300 TK\n"
     ]
    }
   ],
   "source": [
    "\n",
    "\n",
    "\n",
    "'''\n",
    "Problem 5\n",
    "Write a python class \"Bank Account\" with attributes for balance and account_number (build a constructor).\n",
    "write a method to Deposit money\n",
    "write a method to withdraw money (if there are sufficient funds).\n",
    "write a method to display the balance.\n",
    "\n",
    "# test your class by creating an object\n",
    "\n",
    "'''\n",
    "\n",
    "class BankAcount:\n",
    "  def __init__(self,balance,account_number):\n",
    "    self.balance=balance\n",
    "    self.account_number=account_number\n",
    "\n",
    "  def deposit(self,money):\n",
    "    self.balance+=money\n",
    "\n",
    "  def  withdraw(self,money):\n",
    "    if money<=self.balance:\n",
    "      self.balance-=money\n",
    "    else:\n",
    "      print(\"Inefficient Money\")\n",
    "\n",
    "  def display(self):\n",
    "    print(f'Account Number {self.account_number} has {self.balance} TK')\n",
    "\n",
    "\n",
    "account1= BankAcount(1000,\"10\")\n",
    "account1.deposit(500)\n",
    "account1.withdraw(200)\n",
    "account1.display()\n",
    "\n",
    "\n"
   ]
  },
  {
   "cell_type": "code",
   "execution_count": 11,
   "metadata": {
    "colab": {
     "base_uri": "https://localhost:8080/"
    },
    "executionInfo": {
     "elapsed": 11054,
     "status": "ok",
     "timestamp": 1754591125896,
     "user": {
      "displayName": "Atikur Rahaman",
      "userId": "15310823200165812914"
     },
     "user_tz": -360
    },
    "id": "n712ZGsCmbUp",
    "outputId": "2e0d6bce-6ee1-48ea-e636-d15922dc9245"
   },
   "outputs": [
    {
     "name": "stdout",
     "output_type": "stream",
     "text": [
      "Enter the number of rows: 2\n",
      "Enter the number of columns: 3\n",
      "Enter the elements of the array:\n",
      "Enter element at row 1, column 1: 1\n",
      "Enter element at row 1, column 2: 2\n",
      "Enter element at row 1, column 3: 3\n",
      "Enter element at row 2, column 1: 4\n",
      "Enter element at row 2, column 2: 5\n",
      "Enter element at row 2, column 3: 6\n",
      "\n",
      "Original array:\n",
      "[[1 2 3]\n",
      " [4 5 6]]\n",
      "\n",
      "Reshaped array (1, rc):\n",
      "[[1 2 3 4 5 6]]\n"
     ]
    }
   ],
   "source": [
    "'''\n",
    "Problem 6\n",
    "input 2 numbers, r (for number of rows) and c (for number of columns)\n",
    "now for a 2D numpy array of shape (r, c), take the input for each element\n",
    "now reshape the array to the shape (1, rc) and print the array\n",
    "\n",
    "'''\n",
    "import numpy as np\n",
    "r = int(input(\"Enter the number of rows: \"))\n",
    "c = int(input(\"Enter the number of columns: \"))\n",
    "\n",
    "# Initialize a 2D numpy array with zeros\n",
    "arr = np.zeros((r, c), dtype=int)\n",
    "\n",
    "print(\"Enter the elements of the array:\")\n",
    "for i in range(r):\n",
    "  for j in range(c):\n",
    "      v = int(input(f\"Enter element at row {i+1}, column {j+1}: \"))\n",
    "      arr[i][j] = v\n",
    "\n",
    "\n",
    "print(\"\\nOriginal array:\")\n",
    "print(arr)\n",
    "\n",
    "# Reshape the array to (1, r*c)\n",
    "reshaped_arr = arr.reshape(1, r * c)\n",
    "\n",
    "print(\"\\nReshaped array (1, rc):\")\n",
    "print(reshaped_arr)"
   ]
  },
  {
   "cell_type": "code",
   "execution_count": null,
   "metadata": {
    "colab": {
     "base_uri": "https://localhost:8080/",
     "height": 472
    },
    "executionInfo": {
     "elapsed": 171,
     "status": "ok",
     "timestamp": 1754592160586,
     "user": {
      "displayName": "Atikur Rahaman",
      "userId": "15310823200165812914"
     },
     "user_tz": -360
    },
    "id": "mo_5RQmKn2Hf",
    "outputId": "94e7fcf9-60a4-4047-c8a1-920df93d2dc1"
   },
   "outputs": [
    {
     "data": {
      "image/png": "[encoded data removed]",
      "text/plain": [
       "<Figure size 640x480 with 1 Axes>"
      ]
     },
     "metadata": {},
     "output_type": "display_data"
    }
   ],
   "source": [
    "'''\n",
    "\n",
    "# Problem 7\n",
    "# Plot a piecewise function  where y=x^2 for 0≤𝑥<4, y=16 for 4≤𝑥<8, and 𝑦=(12−𝑥)^2, for 8≤x≤12. Use Python's matplotlib library to create this plot.\"\n",
    "\n",
    "'''\n",
    "import matplotlib.pyplot as plt\n",
    "import numpy as np\n",
    "\n",
    "def piecewise_function(x):\n",
    "    if 0<=x<=4:\n",
    "        return x**2\n",
    "    elif 4<=x<8:\n",
    "        return 16\n",
    "    elif 8<=x<=12:\n",
    "        return (12-x)**2\n",
    "\n",
    "x_values = np.linspace(0, 12, 100)\n",
    "y_values = [piecewise_function(x) for x in x_values]\n",
    "\n",
    "plt.plot(x_values, y_values, label='Piecewise Function')\n",
    "plt.title('Piecewise Function Plot')\n",
    "plt.xlabel('x')\n",
    "plt.ylabel('y')\n",
    "plt.grid(color=\"gray\")\n",
    "plt.show()\n",
    "\n",
    "\n"
   ]
  },
  {
   "cell_type": "code",
   "execution_count": null,
   "metadata": {},
   "outputs": [],
   "source": []
  },
  {
   "cell_type": "code",
   "execution_count": 24,
   "metadata": {
    "colab": {
     "base_uri": "https://localhost:8080/"
    },
    "executionInfo": {
     "elapsed": 13,
     "status": "ok",
     "timestamp": 1754592872962,
     "user": {
      "displayName": "Atikur Rahaman",
      "userId": "15310823200165812914"
     },
     "user_tz": -360
    },
    "id": "wTw1-r9StwN-",
    "outputId": "1fc1ee4d-cb6c-4389-a627-393559eb85db"
   },
   "outputs": [
    {
     "name": "stdout",
     "output_type": "stream",
     "text": [
      "[[4 5 6]\n",
      " [7 8 9]]\n",
      "39\n"
     ]
    }
   ],
   "source": [
    "'''\n",
    "Problem:  (Slicing in array)\n",
    "\n",
    "create a 3x3 matrix/array\n",
    "\n",
    "then slice the last 2 rows from the array and calculate their sum\n",
    "\n",
    "'''\n",
    "\n",
    "import numpy as np\n",
    "\n",
    "arr = np.array([\n",
    " [1,2,3],[4,5,6],[7,8,9]\n",
    "])\n",
    "\n",
    "last_two_rows = arr[1:]\n",
    "print(last_two_rows)\n",
    "\n",
    "sum_last_two_rows = np.sum(last_two_rows)\n",
    "print(sum_last_two_rows)"
   ]
  },
  {
   "cell_type": "code",
   "execution_count": 26,
   "metadata": {
    "colab": {
     "base_uri": "https://localhost:8080/"
    },
    "executionInfo": {
     "elapsed": 18,
     "status": "ok",
     "timestamp": 1754593202899,
     "user": {
      "displayName": "Atikur Rahaman",
      "userId": "15310823200165812914"
     },
     "user_tz": -360
    },
    "id": "y00WzfSeuNfM",
    "outputId": "8a20add2-ff3c-4957-b1c5-4f8f7e476885"
   },
   "outputs": [
    {
     "name": "stdout",
     "output_type": "stream",
     "text": [
      "[array([1, 2]), array([3, 4]), array([5, 6])]\n"
     ]
    }
   ],
   "source": [
    "'''\n",
    "Create a 1D array and split it into 3 equal parts.\n",
    "\n",
    "'''\n",
    "import numpy as np\n",
    "\n",
    "arr=np.array([1,2,3,4,5,6])\n",
    "arr1=np.split(arr,3)\n",
    "print(arr1)"
   ]
  },
  {
   "cell_type": "markdown",
   "metadata": {},
   "source": [
    "# Additional Practice Problems (Easy, Medium, Hard)\n",
    "Below are 20 more problems grouped by difficulty: 5 Easy, 10 Medium, 5 Hard. Each cell contains a brief description and one possible solution. Feel free to comment out the solutions and attempt them yourself first."
   ]
  },
  {
   "cell_type": "code",
   "execution_count": null,
   "metadata": {},
   "outputs": [],
   "source": [
    "\"\"\"\n",
    "Easy Problem 1: Count vowels in a string.\n",
    "Input: a string s\n",
    "Output: number of vowels (a,e,i,o,u) (case-insensitive)\n",
    "\"\"\"\n",
    "s = \"Artificial Intelligence\"\n",
    "count = sum(1 for ch in s.lower() if ch in 'aeiou')\n",
    "print(\"Vowel count:\", count)\n",
    "\n",
    "\"\"\"\n",
    "Easy Problem 2: Generate first n Fibonacci numbers.\n",
    "\"\"\"\n",
    "n = 10\n",
    "fib = []\n",
    "a,b = 0,1\n",
    "for _ in range(n):\n",
    "    fib.append(a)\n",
    "    a,b = b,a+b\n",
    "print(f\"First {n} Fibonacci numbers:\", fib)\n",
    "\n",
    "\"\"\"\n",
    "Easy Problem 3: Check if a number is prime (basic method).\n",
    "\"\"\"\n",
    "num = 29\n",
    "is_prime = num > 1 and all(num % i for i in range(2, int(num**0.5)+1))\n",
    "print(num, \"is prime?\", is_prime)\n",
    "\n",
    "\"\"\"\n",
    "Easy Problem 4: Reverse words of a sentence while keeping order of words.\n",
    "\"\"\"\n",
    "sentence = \"machine learning is fun\"\n",
    "rev_words = \" \".join(word[::-1] for word in sentence.split())\n",
    "print(rev_words)\n",
    "\n",
    "\"\"\"\n",
    "Easy Problem 5: Find min and max in a list without using min()/max().\n",
    "\"\"\"\n",
    "arr = [5,2,9,1,7,3]\n",
    "mn = mx = arr[0]\n",
    "for v in arr[1:]:\n",
    "    if v < mn: mn = v\n",
    "    if v > mx: mx = v\n",
    "print(\"Min:\", mn, \"Max:\", mx)"
   ]
  },
  {
   "cell_type": "code",
   "execution_count": null,
   "metadata": {},
   "outputs": [],
   "source": [
    "\"\"\"\n",
    "Medium Problem 1: Frequency dictionary of characters (ignore spaces) sorted by frequency desc then char.\n",
    "\"\"\"\n",
    "text = \"Data Science Rocks\"\n",
    "freq = {}\n",
    "for ch in text.lower():\n",
    "    if ch == ' ': continue\n",
    "    freq[ch] = freq.get(ch,0)+1\n",
    "for k,v in sorted(freq.items(), key=lambda kv:(-kv[1], kv[0])):\n",
    "    print(k, v)\n",
    "\n",
    "\"\"\"\n",
    "Medium Problem 2: Two-sum indices (first pair) given target.\n",
    "\"\"\"\n",
    "nums = [2,7,11,15]\n",
    "target = 9\n",
    "seen = {}\n",
    "ans = None\n",
    "for i,x in enumerate(nums):\n",
    "    if target - x in seen:\n",
    "        ans = (seen[target-x], i)\n",
    "        break\n",
    "    seen[x] = i\n",
    "print(\"Two-sum indices:\", ans)\n",
    "\n",
    "\"\"\"\n",
    "Medium Problem 3: Rotate list right by k steps in-place.\n",
    "\"\"\"\n",
    "arr = [1,2,3,4,5,6,7]\n",
    "k = 3\n",
    "k %= len(arr)\n",
    "arr[:] = arr[-k:] + arr[:-k]\n",
    "print(\"Rotated:\", arr)\n",
    "\n",
    "\"\"\"\n",
    "Medium Problem 4: Check balanced parentheses/brackets.\n",
    "\"\"\"\n",
    "expr = \"( [ { } ] ( ) )\"\n",
    "stack = []\n",
    "pairs = {')':'(',']':'[','}':'{'}\n",
    "bal = True\n",
    "for ch in expr.replace(' ',''):\n",
    "    if ch in '([{': stack.append(ch)\n",
    "    else:\n",
    "        if not stack or stack.pop() != pairs[ch]:\n",
    "            bal=False; break\n",
    "print(\"Balanced?\", bal)\n",
    "\n",
    "\"\"\"\n",
    "Medium Problem 5: Flatten a nested list one level deep.\n",
    "\"\"\"\n",
    "nested = [[1,2],[3,4],[5],[6,7,8]]\n",
    "flat = [x for sub in nested for x in sub]\n",
    "print(flat)\n",
    "\n",
    "\"\"\"\n",
    "Medium Problem 6: Generate all unique substrings of a string.\n",
    "\"\"\"\n",
    "word = \"aba\"\n",
    "subs = {word[i:j] for i in range(len(word)) for j in range(i+1,len(word)+1)}\n",
    "print(subs)\n",
    "\n",
    "\"\"\"\n",
    "Medium Problem 7: Matrix transpose without numpy.\n",
    "\"\"\"\n",
    "M = [ [1,2,3], [4,5,6] ]\n",
    "T = [ [M[r][c] for r in range(len(M))] for c in range(len(M[0])) ]\n",
    "print(T)\n",
    "\n",
    "\"\"\"\n",
    "Medium Problem 8: Merge two sorted lists into one sorted list.\n",
    "\"\"\"\n",
    "a = [1,4,9]\n",
    "b = [2,3,10]\n",
    "i=j=0\n",
    "merged = []\n",
    "while i<len(a) and j<len(b):\n",
    "    if a[i] < b[j]: merged.append(a[i]); i+=1\n",
    "    else: merged.append(b[j]); j+=1\n",
    "merged.extend(a[i:]); merged.extend(b[j:])\n",
    "print(merged)\n",
    "\n",
    "\"\"\"\n",
    "Medium Problem 9: Longest word length in a sentence.\n",
    "\"\"\"\n",
    "sent = \"deep learning with python\"\n",
    "mlen = 0\n",
    "for w in sent.split():\n",
    "    if len(w) > mlen: mlen = len(w)\n",
    "print(\"Longest length:\", mlen)\n",
    "\n",
    "\"\"\"\n",
    "Medium Problem 10: Count primes up to N using simple sieve.\n",
    "\"\"\"\n",
    "N = 50\n",
    "is_prime = [True]*(N+1)\n",
    "is_prime[0]=is_prime[1]=False\n",
    "for p in range(2, int(N**0.5)+1):\n",
    "    if is_prime[p]:\n",
    "        for m in range(p*p, N+1, p):\n",
    "            is_prime[m]=False\n",
    "cnt = sum(is_prime)\n",
    "print(\"Primes up to\", N, \"=\", cnt)"
   ]
  },
  {
   "cell_type": "code",
   "execution_count": null,
   "metadata": {},
   "outputs": [],
   "source": [
    "\"\"\"\n",
    "Hard Problem 1: Longest Increasing Subsequence (O(n log n)). Returns length.\n",
    "\"\"\"\n",
    "seq = [10,9,2,5,3,7,101,18]\n",
    "import bisect\n",
    "pile = []\n",
    "for x in seq:\n",
    "    i = bisect.bisect_left(pile, x)\n",
    "    if i == len(pile): pile.append(x)\n",
    "    else: pile[i] = x\n",
    "print(\"LIS length:\", len(pile))\n",
    "\n",
    "\"\"\"\n",
    "Hard Problem 2: Word frequency top-k (k=3) ignoring case/punctuation.\n",
    "\"\"\"\n",
    "text = \"Deep learning is learning from deep data, deep models learn.\"\n",
    "import re, collections\n",
    "words = re.findall(r'[a-z]+', text.lower())\n",
    "counts = collections.Counter(words)\n",
    "print(counts.most_common(3))\n",
    "\n",
    "\"\"\"\n",
    "Hard Problem 3: Sudoku row validity check (9x9 only digits or '.').\n",
    "\"\"\"\n",
    "board = [\n",
    "\"53..7....\",\n",
    "\"6..195...\",\n",
    "\".98....6.\",\n",
    "\"8...6...3\",\n",
    "\"4..8.3..1\",\n",
    "\"7...2...6\",\n",
    "\".6....28.\",\n",
    "\"...419..5\",\n",
    "\"....8..79\"\n",
    "]\n",
    "valid = True\n",
    "for row in board:\n",
    "    seen=set()\n",
    "    for ch in row:\n",
    "        if ch == '.': continue\n",
    "        if ch in seen:\n",
    "            valid=False; break\n",
    "        seen.add(ch)\n",
    "    if not valid: break\n",
    "print(\"Rows valid?\", valid)\n",
    "\n",
    "\"\"\"\n",
    "Hard Problem 4: Simple backtracking to solve N-Queens count (n=8).\n",
    "\"\"\"\n",
    "N = 8\n",
    "cols=set(); d1=set(); d2=set();\n",
    "solutions=0\n",
    "\n",
    "def backtrack(r=0):\n",
    "    global solutions\n",
    "    if r==N:\n",
    "        solutions+=1; return\n",
    "    for c in range(N):\n",
    "        if c in cols or (r-c) in d1 or (r+c) in d2: continue\n",
    "        cols.add(c); d1.add(r-c); d2.add(r+c)\n",
    "        backtrack(r+1)\n",
    "        cols.remove(c); d1.remove(r-c); d2.remove(r+c)\n",
    "backtrack()\n",
    "print(\"N-Queens solutions (8x8):\", solutions)\n",
    "\n",
    "\"\"\"\n",
    "Hard Problem 5: Dijkstra shortest paths from source using adjacency list.\n",
    "Graph format: dict[node] = list[(neighbor, weight)]\n",
    "\"\"\"\n",
    "import heapq\n",
    "G = {\n",
    " 'A':[('B',4),('C',2)],\n",
    " 'B':[('C',5),('D',10)],\n",
    " 'C':[('E',3)],\n",
    " 'D':[('F',11)],\n",
    " 'E':[('D',4)],\n",
    " 'F':[]\n",
    "}\n",
    "source='A'\n",
    "INF = float('inf')\n",
    "dist={v:INF for v in G}; dist[source]=0\n",
    "pq=[(0,source)]\n",
    "while pq:\n",
    "    d,u = heapq.heappop(pq)\n",
    "    if d!=dist[u]: continue\n",
    "    for v,w in G[u]:\n",
    "        nd = d + w\n",
    "        if nd < dist[v]:\n",
    "            dist[v]=nd\n",
    "            heapq.heappush(pq,(nd,v))\n",
    "print(\"Distances:\", dist)"
   ]
  }
 ],
 "metadata": {
  "colab": {
   "provenance": [
    {
     "file_id": "1OHUYvX8UdYqns86RTFtCeJH5yMI55js4",
     "timestamp": 1754588425408
    }
   ],
   "toc_visible": true
  },
  "kernelspec": {
   "display_name": "base",
   "language": "python",
   "name": "python3"
  },
  "language_info": {
   "name": "python",
   "version": "3.12.7"
  }
 },
 "nbformat": 4,
 "nbformat_minor": 0
}
